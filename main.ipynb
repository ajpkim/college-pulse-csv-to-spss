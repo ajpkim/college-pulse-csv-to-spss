{
 "cells": [
  {
   "cell_type": "code",
   "execution_count": 16,
   "id": "0903d7b4-c680-46f4-9a0a-4307cbe3eed7",
   "metadata": {},
   "outputs": [
    {
     "name": "stdout",
     "output_type": "stream",
     "text": [
      "[1] \"Data exported successfully to ./data/output/spss-output_04_27_2024.sav\"\n"
     ]
    }
   ],
   "source": [
    "######################################################################\n",
    "# Author: Alex Kim\n",
    "# Date: 2024-04-26\n",
    "#\n",
    "# This script parses and converts encoded csv data into decoded SPSS\n",
    "# file with variable labels derived from the encoded file.\n",
    "#\n",
    "# Usage:\n",
    "# - Ensure the required libraries are installed in current R env\n",
    "# - Update the 3 variables for input/output file paths\n",
    "# - Run the script\n",
    "######################################################################\n",
    "suppressPackageStartupMessages({\n",
    "    library(readr)\n",
    "    library(dplyr)\n",
    "    library(haven)\n",
    "})\n",
    "######################################################################\n",
    "# User defined variables\n",
    "\n",
    "data_dict_path <- './data/post-call/data_dict (1).csv'\n",
    "encoded_data_path <- './data/post-call/data_encoded_04_27_2024 (1).csv'\n",
    "spss_output_path <- './data/output/spss-output_04_27_2024.sav'\n",
    "\n",
    "######################################################################\n",
    "\n",
    "load_files <- function(encoded_data_path, data_dict_path) {\n",
    "    data_dict <- read_csv(data_dict_path, show_col_types = FALSE)\n",
    "    # Extract column names and descriptions from the first two rows before actually loading data\n",
    "    tmp_data <- read_csv(encoded_data_path, col_names = FALSE, show_col_types = FALSE)\n",
    "    col_names <- as.character(tmp_data[1, ])\n",
    "    # Reload the data, skipping the first two rows to avoid the col description row\n",
    "    data <- read_csv(encoded_data_path, skip = 2, col_names = col_names, show_col_types = FALSE)\n",
    "\n",
    "    return(list(data = data, data_dict = data_dict))\n",
    "}\n",
    "\n",
    "# Important for adding variable labels for SPSS.\n",
    "# The 2nd row in the encoded data files contain column descriptions.\n",
    "get_col_descriptions <- function(encoded_data_path) {\n",
    "    df <- read_csv(encoded_data_path, col_names = FALSE, show_col_types = FALSE)\n",
    "    col_names <- as.character(df[1, ])\n",
    "    col_descriptions <- as.character(df[2, ])\n",
    "    col_descriptions <- setNames(col_descriptions, col_names)\n",
    "\n",
    "    return(col_descriptions)\n",
    "}\n",
    "\n",
    "# Add variable labels as metadata for SPSS\n",
    "add_var_labels <- function(data, encoded_data_path) {\n",
    "    # Add variable labels for SPSS from the 2nd row of encoded data files\n",
    "    col_descriptions <- get_col_descriptions(encoded_data_path)\n",
    "\n",
    "    for(col in names(col_descriptions)) {\n",
    "        if(col %in% names(data)) {\n",
    "            attr(data[[col]], \"label\") <- col_descriptions[[col]]\n",
    "        }\n",
    "    }\n",
    "    return (data)\n",
    "}\n",
    "\n",
    "\n",
    "\n",
    "# Parse the data dict for the encoded variable values\n",
    "# and add as value labels for SPSS file.\n",
    "get_value_labels <- function(data_dict) {\n",
    "  # Filter out duplicate value-label pairs\n",
    "  data_dict <- data_dict[!duplicated(paste(data_dict$variable, data_dict$label)), fromLast = TRUE]\n",
    "\n",
    "   # Cast 'label' column to integers for nicer output in SPSS\n",
    "  data_dict$label <- as.integer(data_dict$label)  \n",
    "   \n",
    "  # Transform the data dictionary into a list of value labels\n",
    "  value_labels_list <- split(data_dict, data_dict$variable)\n",
    "  \n",
    "  # Transform into a named vector for each variable\n",
    "  value_labels <- lapply(value_labels_list, function(x) {\n",
    "    setNames(x$label, x$value)\n",
    "  })\n",
    "  \n",
    "  return(value_labels)\n",
    "}\n",
    "\n",
    "# Function to add value labels to the data\n",
    "add_value_labels <- function(data, data_dict_path) {\n",
    "    value_labels <- get_value_labels(data_dict_path)\n",
    "    for(var in names(value_labels)) {\n",
    "        # Convert the list of labels to a named vector\n",
    "        labels_vector <- value_labels[[var]]\n",
    "\n",
    "        # Try casting to int here for pretty SPSS labels\n",
    "        data[[var]] <- labelled(as.integer(data[[var]]), labels = labels_vector)    \n",
    "    }\n",
    "    return(data)\n",
    "}\n",
    "\n",
    "main <- function(encoded_dath_path, data_dict_path, spss_output_path) {\n",
    "    # Import the encoded data and the data dict\n",
    "    result <- load_files(encoded_data_path, data_dict_path)\n",
    "    data <- result$data\n",
    "    data_dict <- result$data_dict\n",
    "\n",
    "    # Add factor/value labels for SPSS\n",
    "    data <- add_value_labels(data, data_dict)\n",
    "    \n",
    "    # Add variable labels for SPSS\n",
    "    data <- add_var_labels(data, encoded_data_path)\n",
    "    \n",
    "    # Export the processed data to an SPSS file\n",
    "    write_sav(data, spss_output_path)\n",
    "    print(paste(\"Data exported successfully to\", spss_output_path))\n",
    "    return (data)\n",
    "}\n",
    "\n",
    "df <- main(encoded_data_path, data_dict_path, spss_output_path)"
   ]
  },
  {
   "cell_type": "code",
   "execution_count": null,
   "id": "a3a01f71-b31b-48f0-9e1e-2087739280d8",
   "metadata": {},
   "outputs": [],
   "source": [
    "val_labels <- get_value_labels(data_dict)\n",
    "val_labels"
   ]
  },
  {
   "cell_type": "code",
   "execution_count": null,
   "id": "3c8f7c98-722c-44c5-a963-a41e8409c9c2",
   "metadata": {},
   "outputs": [],
   "source": [
    "# Function to check if all columns have labels\n",
    "check_col_labels <- function(data) {\n",
    "    for(col in names(data)) {\n",
    "        label <- attr(data[[col]], \"label\")\n",
    "        if(is.null(label)) {\n",
    "            print(paste(\"Column:\", col, \"- Missing label\"))\n",
    "        } else {\n",
    "            # print(paste(\"Column:\", col, \"- Label:\", label))\n",
    "        }\n",
    "    }\n",
    "}\n",
    "\n",
    "library(haven)\n",
    "\n",
    "# Function to check value labels assigned to variables\n",
    "check_value_labels <- function(data) {\n",
    "    for(col in names(data)) {\n",
    "        if(is.labelled(data[[col]])) {\n",
    "            labels <- attr(data[[col]], \"labels\")\n",
    "            if(!is.null(labels)) {\n",
    "                print(paste(\"Column:\", col, \"- Value Labels:\"))\n",
    "                for (key in names(labels)) {\n",
    "                    print(paste(\"  \", key, \"-\", labels[key]))\n",
    "                }\n",
    "            } else {\n",
    "                print(paste(\"Column:\", col, \"- No Value Labels Assigned\"))\n",
    "            }\n",
    "        } else {\n",
    "            print(paste(\"Column:\", col, \"- Not a labelled variable\"))\n",
    "        }\n",
    "    }\n",
    "}\n",
    "\n",
    "# check_col_labels(df)\n",
    "check_value_labels(df)"
   ]
  },
  {
   "cell_type": "code",
   "execution_count": 7,
   "id": "19ccd961-4e65-452a-b44f-1dd169fe1ab4",
   "metadata": {},
   "outputs": [],
   "source": [
    "result = load_files(encoded_data_path, data_dict_path)\n",
    "data = result$data\n",
    "data_dict = result$data_dict"
   ]
  },
  {
   "cell_type": "code",
   "execution_count": null,
   "id": "b4dc96d9-8631-44fa-a486-5de411d3850d",
   "metadata": {},
   "outputs": [],
   "source": [
    "# Removing dups from data_dict\n",
    "\n",
    "dim(data_dict)\n",
    "data_dict <- data_dict[!duplicated(paste(data_dict$variable, data_dict$label)), fromLast = TRUE]\n",
    "dim(data_dict)"
   ]
  },
  {
   "cell_type": "code",
   "execution_count": 8,
   "id": "8e30baa7-89a6-421e-bd65-422622daf3e4",
   "metadata": {},
   "outputs": [
    {
     "data": {
      "text/html": [
       "<style>\n",
       ".list-inline {list-style: none; margin:0; padding: 0}\n",
       ".list-inline>li {display: inline-block}\n",
       ".list-inline>li:not(:last-child)::after {content: \"\\00b7\"; padding: 0 .5ex}\n",
       "</style>\n",
       "<ol class=list-inline><li>397</li><li>3</li></ol>\n"
      ],
      "text/latex": [
       "\\begin{enumerate*}\n",
       "\\item 397\n",
       "\\item 3\n",
       "\\end{enumerate*}\n"
      ],
      "text/markdown": [
       "1. 397\n",
       "2. 3\n",
       "\n",
       "\n"
      ],
      "text/plain": [
       "[1] 397   3"
      ]
     },
     "metadata": {},
     "output_type": "display_data"
    }
   ],
   "source": [
    "remove_duplicates <- function(df) {\n",
    "  # Initialize an empty list to store indices of duplicate rows\n",
    "  duplicates <- list()\n",
    "  \n",
    "  # Iterate through each row in the dataframe\n",
    "  for (i in 1:nrow(df)) {\n",
    "    # Check if the current combination of 'variable' and 'label' has been seen before\n",
    "    if (any(df$variable[1:(i-1)] == df$variable[i] & df$label[1:(i-1)] == df$label[i])) {\n",
    "      # Store the index of the duplicate row\n",
    "      duplicates[[length(duplicates) + 1]] <- i\n",
    "    }\n",
    "  }\n",
    "  \n",
    "  # Remove duplicate rows from the dataframe\n",
    "  df <- df[-unlist(duplicates), ]\n",
    "  \n",
    "  return(duplicates)\n",
    "}\n",
    "\n",
    "dim(data_dict)\n",
    "\n",
    "x <- remove_duplicates(data_dict)\n",
    "\n",
    "# dim(x)"
   ]
  },
  {
   "cell_type": "code",
   "execution_count": 12,
   "id": "abd70cd1-d2f8-4716-beac-c70a8b372e1d",
   "metadata": {},
   "outputs": [
    {
     "data": {
      "text/html": [
       "<style>\n",
       ".list-inline {list-style: none; margin:0; padding: 0}\n",
       ".list-inline>li {display: inline-block}\n",
       ".list-inline>li:not(:last-child)::after {content: \"\\00b7\"; padding: 0 .5ex}\n",
       "</style>\n",
       "<ol class=list-inline><li>385</li><li>3</li></ol>\n"
      ],
      "text/latex": [
       "\\begin{enumerate*}\n",
       "\\item 385\n",
       "\\item 3\n",
       "\\end{enumerate*}\n"
      ],
      "text/markdown": [
       "1. 385\n",
       "2. 3\n",
       "\n",
       "\n"
      ],
      "text/plain": [
       "[1] 385   3"
      ]
     },
     "metadata": {},
     "output_type": "display_data"
    }
   ],
   "source": [
    "remove_duplicates_from_data_dict <- function(df) {\n",
    "  # Create a new column by concatenating 'variable' and 'label' values\n",
    "  df$combined <- paste(df$variable, df$label, sep = \"_\")\n",
    "  \n",
    "  # Keep only the first occurrence of each unique combined value\n",
    "  df <- df[!duplicated(df$combined), ]\n",
    "  \n",
    "  # Remove the combined column\n",
    "  df <- df[, -which(names(df) == \"combined\")]\n",
    "  \n",
    "  return(df)\n",
    "}\n",
    "\n",
    "x <- remove_duplicates(data_dict)\n",
    "\n",
    "\n",
    "dim(x)"
   ]
  }
 ],
 "metadata": {
  "kernelspec": {
   "display_name": "R",
   "language": "R",
   "name": "ir"
  },
  "language_info": {
   "codemirror_mode": "r",
   "file_extension": ".r",
   "mimetype": "text/x-r-source",
   "name": "R",
   "pygments_lexer": "r",
   "version": "4.4.1"
  }
 },
 "nbformat": 4,
 "nbformat_minor": 5
}
