{
 "cells": [
  {
   "cell_type": "code",
   "execution_count": null,
   "id": "abecc764-11f6-41e8-b662-1386a24b6464",
   "metadata": {},
   "outputs": [],
   "source": [
    "### Install packages ###\n",
    "\n",
    "# install.packages('tidyverse')"
   ]
  },
  {
   "cell_type": "code",
   "execution_count": null,
   "id": "ad99af4a-6625-410f-b8d3-619dcf49ec47",
   "metadata": {},
   "outputs": [],
   "source": [
    "# Load libraries\n",
    "\n",
    "library(readr)\n",
    "library(dplyr)\n",
    "\n",
    "# library(tidyverse)\n",
    "# library(tidyr)\n",
    "# library(purrr) \n",
    "# library(glue)"
   ]
  },
  {
   "cell_type": "code",
   "execution_count": null,
   "id": "a8b35a81-9e5e-4af8-8c79-5802d29b3e9d",
   "metadata": {},
   "outputs": [],
   "source": []
  },
  {
   "cell_type": "code",
   "execution_count": null,
   "id": "0b959cba-e757-4403-bf3b-e3f92ff9720f",
   "metadata": {},
   "outputs": [],
   "source": [
    "### Load data ###\n",
    "data_dict_path <- './data/data_dictionary.csv'\n",
    "encoded_data_path <- './data/data_encoded_04_24_2024.csv'\n",
    "\n",
    "data_dict <- read_csv(data_dict_path, show_col_types = FALSE)\n",
    "\n",
    "# Extract column names and descriptions from the first two rows before actually loading data\n",
    "tmp_data <- read_csv(encoded_data_path, col_names = FALSE, show_col_types = FALSE)\n",
    "col_names <- as.character(temp_data[1, ])\n",
    "col_descriptions <- as.character(temp_data[2, ])\n",
    "\n",
    "# Reload the data, skipping the first two rows and setting column names manually\n",
    "encoded_data <- read_csv(encoded_data_path, skip = 2, col_names = col_names, show_col_types = FALSE)\n",
    "\n",
    "# Store the column descriptions in a named list to create SPSS labels later\n",
    "col_descriptions <- setNames(col_descriptions, col_names)\n",
    "\n",
    "# spec(encoded_data)\n",
    "\n",
    "# head(data_dict)\n",
    "# head(encoded_data)\n",
    "# print(col_descriptions)"
   ]
  },
  {
   "cell_type": "code",
   "execution_count": null,
   "id": "29acba15-12c5-4392-ac03-91ba397f1763",
   "metadata": {},
   "outputs": [],
   "source": [
    "### FUNCTION FOR DECODING DATA\n",
    "\n",
    "decode_data <- function(encoded_data, data_dict) {\n",
    "    # Ensure data_dict has proper cols\n",
    "    if (!(\"variable\" %in% names(data_dict)) || !(\"label\" %in% names(data_dict)) || !(\"value\" %in% names(data_dict))) {\n",
    "        stop(\"data_dict must contain 'variable', 'label', and 'value' columns.\")\n",
    "    }\n",
    "    # Loop over the coded variables defined in data_dict and replace encoded values\n",
    "    for (var in unique(data_dict$variable)) {\n",
    "        if (var %in% names(encoded_data)) {\n",
    "            mapping <- data_dict %>%\n",
    "                       filter(variable == var)\n",
    "            encoded_data[[var]] <- mapping$value[match(encoded_data[[var]], mapping$label)]\n",
    "            } else {\n",
    "            warning(paste(\"Variable\", var, \"not found in encoded_data.\"))\n",
    "            }\n",
    "    }\n",
    "    return (encoded_data)\n",
    "} \n",
    "\n",
    "\n",
    "x <- decode_data(encoded_data, data_dict)\n",
    "x[\"Q6.4\"]"
   ]
  }
 ],
 "metadata": {
  "kernelspec": {
   "display_name": "R",
   "language": "R",
   "name": "ir"
  },
  "language_info": {
   "codemirror_mode": "r",
   "file_extension": ".r",
   "mimetype": "text/x-r-source",
   "name": "R",
   "pygments_lexer": "r",
   "version": "4.4.0"
  }
 },
 "nbformat": 4,
 "nbformat_minor": 5
}
